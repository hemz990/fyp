{
 "cells": [
  {
   "cell_type": "code",
   "execution_count": null,
   "metadata": {},
   "outputs": [],
   "source": [
    "import numpy as np\n",
    "import cv2\n",
    "import glob\n",
    "import tensorflow as tf\n",
    "from tensorflow.keras import Model, Input, regularizers\n",
    "from tensorflow.keras.layers import Dense, Conv2D, MaxPool2D, UpSampling2D, Add, Dropout\n",
    "from tensorflow.keras.callbacks import EarlyStopping, ModelCheckpoint\n",
    "from tensorflow.keras.utils import load_img, img_to_array\n",
    "from tensorflow.keras.models import load_model\n",
    "from keras.preprocessing import image\n",
    "from tqdm import tqdm\n",
    "from multiprocessing import Pool\n",
    "import pickle\n",
    "import glob\n",
    "import shutil\n",
    "import os\n",
    "from tqdm import tqdm \n",
    "import PySimpleGUI as gui\n",
    "import os\n",
    "import argparse\n",
    "from subprocess import call\n",
    "import PIL as im\n",
    "\n",
    "# def modify(path =None):\n",
    "#     scratch = load_model(\"E:/dev/models/scratch_rem.h5\")\n",
    "#     enhance = load_model(\"E:/dev/models/enhance.h5\")\n",
    "#     upscale = load_model(\"E:/dev/models/upscale_div2k.h5\")\n",
    "#     face_images = os.path.split(path)\n",
    "#     def read(path):\n",
    "#         img = load_img(path, target_size=(256,256,3))\n",
    "#         img = img_to_array(img)\n",
    "#         img = img/255.\n",
    "#         # progress.update(1)\n",
    "#         return img \n",
    "#     p= Pool(10)\n",
    "#     img_ = p.map(read, face_images[1])\n",
    "#     cv2.imshow('before', img_)\n",
    "\n",
    "#     img_1 = scratch.predict(img_)\n",
    "#     img_2 = upscale.predict(img_1)\n",
    "#     img_3 = enhance.predict(img_2)\n",
    "#     data = im.fromarray(img_3)\n",
    "#     cv2.imshow('after',data)\n",
    "# modify('E:/dev/fyp/scratch/scratch/(7).jpg')\n",
    "    \n",
    "\n",
    "a = load_model(\"E:/dev/models/scratch_rem.h5\")\n",
    "\n",
    "\n"
   ]
  }
 ],
 "metadata": {
  "language_info": {
   "name": "python"
  },
  "orig_nbformat": 4
 },
 "nbformat": 4,
 "nbformat_minor": 2
}
